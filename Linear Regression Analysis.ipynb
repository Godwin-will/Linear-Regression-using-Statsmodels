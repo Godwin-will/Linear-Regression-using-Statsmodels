{
 "cells": [
  {
   "cell_type": "code",
   "execution_count": 1,
   "id": "4ccc902e-ccb0-420a-81a7-df6a1b1d26c4",
   "metadata": {},
   "outputs": [],
   "source": [
    "import numpy as np\n",
    "import pandas as pd\n",
    "import matplotlib.pyplot as plt\n",
    "%matplotlib inline\n",
    "from sklearn.preprocessing import PolynomialFeatures\n",
    "import statsmodels.api as smf\n",
    "from statsmodels.stats.stattools import durbin_watson\n",
    "from scipy.interpolate import *\n",
    "from scipy.stats import ttest_rel\n",
    "import seaborn as sns"
   ]
  },
  {
   "cell_type": "code",
   "execution_count": 2,
   "id": "3d1c7d4c-873f-44e1-8356-5e5892bb7438",
   "metadata": {},
   "outputs": [
    {
     "data": {
      "text/html": [
       "<div>\n",
       "<style scoped>\n",
       "    .dataframe tbody tr th:only-of-type {\n",
       "        vertical-align: middle;\n",
       "    }\n",
       "\n",
       "    .dataframe tbody tr th {\n",
       "        vertical-align: top;\n",
       "    }\n",
       "\n",
       "    .dataframe thead th {\n",
       "        text-align: right;\n",
       "    }\n",
       "</style>\n",
       "<table border=\"1\" class=\"dataframe\">\n",
       "  <thead>\n",
       "    <tr style=\"text-align: right;\">\n",
       "      <th></th>\n",
       "      <th>T_red</th>\n",
       "      <th>eta_data</th>\n",
       "    </tr>\n",
       "  </thead>\n",
       "  <tbody>\n",
       "    <tr>\n",
       "      <th>count</th>\n",
       "      <td>40.000000</td>\n",
       "      <td>40.000000</td>\n",
       "    </tr>\n",
       "    <tr>\n",
       "      <th>mean</th>\n",
       "      <td>0.044102</td>\n",
       "      <td>0.566222</td>\n",
       "    </tr>\n",
       "    <tr>\n",
       "      <th>std</th>\n",
       "      <td>0.028902</td>\n",
       "      <td>0.151699</td>\n",
       "    </tr>\n",
       "    <tr>\n",
       "      <th>min</th>\n",
       "      <td>0.000300</td>\n",
       "      <td>0.247833</td>\n",
       "    </tr>\n",
       "    <tr>\n",
       "      <th>25%</th>\n",
       "      <td>0.017167</td>\n",
       "      <td>0.467023</td>\n",
       "    </tr>\n",
       "    <tr>\n",
       "      <th>50%</th>\n",
       "      <td>0.041692</td>\n",
       "      <td>0.587266</td>\n",
       "    </tr>\n",
       "    <tr>\n",
       "      <th>75%</th>\n",
       "      <td>0.067918</td>\n",
       "      <td>0.695376</td>\n",
       "    </tr>\n",
       "    <tr>\n",
       "      <th>max</th>\n",
       "      <td>0.099099</td>\n",
       "      <td>0.794122</td>\n",
       "    </tr>\n",
       "  </tbody>\n",
       "</table>\n",
       "</div>"
      ],
      "text/plain": [
       "           T_red   eta_data\n",
       "count  40.000000  40.000000\n",
       "mean    0.044102   0.566222\n",
       "std     0.028902   0.151699\n",
       "min     0.000300   0.247833\n",
       "25%     0.017167   0.467023\n",
       "50%     0.041692   0.587266\n",
       "75%     0.067918   0.695376\n",
       "max     0.099099   0.794122"
      ]
     },
     "execution_count": 2,
     "metadata": {},
     "output_type": "execute_result"
    }
   ],
   "source": [
    "data = pd.read_csv('/Users/macbookpro/Desktop/collector.csv', index_col=0)\n",
    "data.head()\n",
    "data.describe()"
   ]
  },
  {
   "cell_type": "code",
   "execution_count": 3,
   "id": "9c0dca64-1bc7-4361-8fcc-1dc015ec1f6d",
   "metadata": {},
   "outputs": [
    {
     "data": {
      "image/png": "[encoded data removed]",
      "text/plain": [
       "<Figure size 1080x720 with 2 Axes>"
      ]
     },
     "metadata": {
      "needs_background": "light"
     },
     "output_type": "display_data"
    }
   ],
   "source": [
    "eta_data = data['eta_data']\n",
    "T_red = data['T_red']\n",
    "plt.rcParams['figure.figsize'] = (15,10)\n",
    "plt.scatter(data['T_red'],data['eta_data'], c=T_red, cmap='hsv')\n",
    "cbar = plt.colorbar()\n",
    "cbar.set_label('Efficiency/Temperature Drop Ratio', fontsize=12)\n",
    "plt.xlabel('T_red', fontsize=15)\n",
    "plt.ylabel('eta_data', fontsize=15)\n",
    "plt.title('Solar Collector Efficiency vs Temperature Drop', fontsize=17)\n",
    "plt.show()\n"
   ]
  },
  {
   "cell_type": "code",
   "execution_count": 4,
   "id": "7599332e-58d8-4bd4-9e55-0518c5a6d23e",
   "metadata": {},
   "outputs": [
    {
     "data": {
      "text/plain": [
       "0     False\n",
       "1     False\n",
       "2     False\n",
       "3     False\n",
       "4     False\n",
       "5     False\n",
       "6     False\n",
       "7     False\n",
       "8     False\n",
       "9     False\n",
       "10    False\n",
       "11    False\n",
       "12    False\n",
       "13    False\n",
       "14    False\n",
       "15    False\n",
       "16    False\n",
       "17    False\n",
       "18    False\n",
       "19    False\n",
       "20    False\n",
       "21    False\n",
       "22    False\n",
       "23    False\n",
       "24    False\n",
       "25    False\n",
       "26    False\n",
       "27    False\n",
       "28    False\n",
       "29    False\n",
       "30    False\n",
       "31    False\n",
       "32    False\n",
       "33    False\n",
       "34    False\n",
       "35    False\n",
       "36    False\n",
       "37    False\n",
       "38    False\n",
       "39    False\n",
       "dtype: bool"
      ]
     },
     "execution_count": 4,
     "metadata": {},
     "output_type": "execute_result"
    }
   ],
   "source": [
    "data.dtypes\n",
    "data.isnull().sum()\n",
    "data.duplicated('T_red')"
   ]
  },
  {
   "cell_type": "code",
   "execution_count": 5,
   "id": "39820869-ea70-4ad8-beee-9d3c28efb0c6",
   "metadata": {},
   "outputs": [
    {
     "data": {
      "text/plain": [
       "0     False\n",
       "1     False\n",
       "2     False\n",
       "3     False\n",
       "4     False\n",
       "5     False\n",
       "6     False\n",
       "7     False\n",
       "8     False\n",
       "9     False\n",
       "10    False\n",
       "11    False\n",
       "12    False\n",
       "13    False\n",
       "14    False\n",
       "15    False\n",
       "16    False\n",
       "17    False\n",
       "18    False\n",
       "19    False\n",
       "20    False\n",
       "21    False\n",
       "22    False\n",
       "23    False\n",
       "24    False\n",
       "25    False\n",
       "26    False\n",
       "27    False\n",
       "28    False\n",
       "29    False\n",
       "30    False\n",
       "31    False\n",
       "32    False\n",
       "33    False\n",
       "34    False\n",
       "35    False\n",
       "36    False\n",
       "37    False\n",
       "38    False\n",
       "39    False\n",
       "dtype: bool"
      ]
     },
     "execution_count": 5,
     "metadata": {},
     "output_type": "execute_result"
    }
   ],
   "source": [
    "data.duplicated('eta_data')"
   ]
  },
  {
   "cell_type": "code",
   "execution_count": 6,
   "id": "dca0de30-b8e1-46e0-a841-4496539e4634",
   "metadata": {},
   "outputs": [],
   "source": [
    "correlations = data.corr()"
   ]
  },
  {
   "cell_type": "code",
   "execution_count": 7,
   "id": "a0515654-0ff9-42d9-a726-52668ce5e4d5",
   "metadata": {},
   "outputs": [
    {
     "data": {
      "image/png": "[encoded data removed]",
      "text/plain": [
       "<Figure size 1080x720 with 2 Axes>"
      ]
     },
     "metadata": {
      "needs_background": "light"
     },
     "output_type": "display_data"
    }
   ],
   "source": [
    "sns.heatmap(correlations)\n",
    "plt.show()\n"
   ]
  },
  {
   "cell_type": "code",
   "execution_count": 8,
   "id": "9589c856-7ee9-4d6b-a7d4-6c4686350379",
   "metadata": {},
   "outputs": [
    {
     "data": {
      "text/html": [
       "<table class=\"simpletable\">\n",
       "<caption>OLS Regression Results</caption>\n",
       "<tr>\n",
       "  <th>Dep. Variable:</th>        <td>eta_data</td>     <th>  R-squared:         </th> <td>   0.988</td>\n",
       "</tr>\n",
       "<tr>\n",
       "  <th>Model:</th>                   <td>OLS</td>       <th>  Adj. R-squared:    </th> <td>   0.988</td>\n",
       "</tr>\n",
       "<tr>\n",
       "  <th>Method:</th>             <td>Least Squares</td>  <th>  F-statistic:       </th> <td>   3093.</td>\n",
       "</tr>\n",
       "<tr>\n",
       "  <th>Date:</th>             <td>Mon, 05 Dec 2022</td> <th>  Prob (F-statistic):</th> <td>5.13e-38</td>\n",
       "</tr>\n",
       "<tr>\n",
       "  <th>Time:</th>                 <td>16:31:21</td>     <th>  Log-Likelihood:    </th> <td>  107.41</td>\n",
       "</tr>\n",
       "<tr>\n",
       "  <th>No. Observations:</th>      <td>    40</td>      <th>  AIC:               </th> <td>  -210.8</td>\n",
       "</tr>\n",
       "<tr>\n",
       "  <th>Df Residuals:</th>          <td>    38</td>      <th>  BIC:               </th> <td>  -207.4</td>\n",
       "</tr>\n",
       "<tr>\n",
       "  <th>Df Model:</th>              <td>     1</td>      <th>                     </th>     <td> </td>   \n",
       "</tr>\n",
       "<tr>\n",
       "  <th>Covariance Type:</th>      <td>nonrobust</td>    <th>                     </th>     <td> </td>   \n",
       "</tr>\n",
       "</table>\n",
       "<table class=\"simpletable\">\n",
       "<tr>\n",
       "    <td></td>       <th>coef</th>     <th>std err</th>      <th>t</th>      <th>P>|t|</th>  <th>[0.025</th>    <th>0.975]</th>  \n",
       "</tr>\n",
       "<tr>\n",
       "  <th>const</th> <td>    0.7963</td> <td>    0.005</td> <td>  161.601</td> <td> 0.000</td> <td>    0.786</td> <td>    0.806</td>\n",
       "</tr>\n",
       "<tr>\n",
       "  <th>T_red</th> <td>   -5.2168</td> <td>    0.094</td> <td>  -55.614</td> <td> 0.000</td> <td>   -5.407</td> <td>   -5.027</td>\n",
       "</tr>\n",
       "</table>\n",
       "<table class=\"simpletable\">\n",
       "<tr>\n",
       "  <th>Omnibus:</th>       <td> 1.268</td> <th>  Durbin-Watson:     </th> <td>   2.376</td>\n",
       "</tr>\n",
       "<tr>\n",
       "  <th>Prob(Omnibus):</th> <td> 0.530</td> <th>  Jarque-Bera (JB):  </th> <td>   1.076</td>\n",
       "</tr>\n",
       "<tr>\n",
       "  <th>Skew:</th>          <td> 0.191</td> <th>  Prob(JB):          </th> <td>   0.584</td>\n",
       "</tr>\n",
       "<tr>\n",
       "  <th>Kurtosis:</th>      <td> 2.293</td> <th>  Cond. No.          </th> <td>    35.1</td>\n",
       "</tr>\n",
       "</table><br/><br/>Notes:<br/>[1] Standard Errors assume that the covariance matrix of the errors is correctly specified."
      ],
      "text/plain": [
       "<class 'statsmodels.iolib.summary.Summary'>\n",
       "\"\"\"\n",
       "                            OLS Regression Results                            \n",
       "==============================================================================\n",
       "Dep. Variable:               eta_data   R-squared:                       0.988\n",
       "Model:                            OLS   Adj. R-squared:                  0.988\n",
       "Method:                 Least Squares   F-statistic:                     3093.\n",
       "Date:                Mon, 05 Dec 2022   Prob (F-statistic):           5.13e-38\n",
       "Time:                        16:31:21   Log-Likelihood:                 107.41\n",
       "No. Observations:                  40   AIC:                            -210.8\n",
       "Df Residuals:                      38   BIC:                            -207.4\n",
       "Df Model:                           1                                         \n",
       "Covariance Type:            nonrobust                                         \n",
       "==============================================================================\n",
       "                 coef    std err          t      P>|t|      [0.025      0.975]\n",
       "------------------------------------------------------------------------------\n",
       "const          0.7963      0.005    161.601      0.000       0.786       0.806\n",
       "T_red         -5.2168      0.094    -55.614      0.000      -5.407      -5.027\n",
       "==============================================================================\n",
       "Omnibus:                        1.268   Durbin-Watson:                   2.376\n",
       "Prob(Omnibus):                  0.530   Jarque-Bera (JB):                1.076\n",
       "Skew:                           0.191   Prob(JB):                        0.584\n",
       "Kurtosis:                       2.293   Cond. No.                         35.1\n",
       "==============================================================================\n",
       "\n",
       "Notes:\n",
       "[1] Standard Errors assume that the covariance matrix of the errors is correctly specified.\n",
       "\"\"\""
      ]
     },
     "execution_count": 8,
     "metadata": {},
     "output_type": "execute_result"
    }
   ],
   "source": [
    "intercept = smf.add_constant(T_red)\n",
    "model = smf.OLS(data['eta_data'], intercept)\n",
    "model1 = model.fit()\n",
    "model_predict = model1.predict()\n",
    "model1.summary()\n"
   ]
  },
  {
   "cell_type": "code",
   "execution_count": 9,
   "id": "7c260020-824e-4496-8922-acb2453b307a",
   "metadata": {},
   "outputs": [
    {
     "data": {
      "text/plain": [
       "['HC0_se',\n",
       " 'HC1_se',\n",
       " 'HC2_se',\n",
       " 'HC3_se',\n",
       " '_HCCM',\n",
       " '__class__',\n",
       " '__delattr__',\n",
       " '__dict__',\n",
       " '__dir__',\n",
       " '__doc__',\n",
       " '__eq__',\n",
       " '__format__',\n",
       " '__ge__',\n",
       " '__getattribute__',\n",
       " '__gt__',\n",
       " '__hash__',\n",
       " '__init__',\n",
       " '__init_subclass__',\n",
       " '__le__',\n",
       " '__lt__',\n",
       " '__module__',\n",
       " '__ne__',\n",
       " '__new__',\n",
       " '__reduce__',\n",
       " '__reduce_ex__',\n",
       " '__repr__',\n",
       " '__setattr__',\n",
       " '__sizeof__',\n",
       " '__str__',\n",
       " '__subclasshook__',\n",
       " '__weakref__',\n",
       " '_abat_diagonal',\n",
       " '_cache',\n",
       " '_data_attr',\n",
       " '_data_in_cache',\n",
       " '_get_robustcov_results',\n",
       " '_is_nested',\n",
       " '_use_t',\n",
       " '_wexog_singular_values',\n",
       " 'aic',\n",
       " 'bic',\n",
       " 'bse',\n",
       " 'centered_tss',\n",
       " 'compare_f_test',\n",
       " 'compare_lm_test',\n",
       " 'compare_lr_test',\n",
       " 'condition_number',\n",
       " 'conf_int',\n",
       " 'conf_int_el',\n",
       " 'cov_HC0',\n",
       " 'cov_HC1',\n",
       " 'cov_HC2',\n",
       " 'cov_HC3',\n",
       " 'cov_kwds',\n",
       " 'cov_params',\n",
       " 'cov_type',\n",
       " 'df_model',\n",
       " 'df_resid',\n",
       " 'diagn',\n",
       " 'eigenvals',\n",
       " 'el_test',\n",
       " 'ess',\n",
       " 'f_pvalue',\n",
       " 'f_test',\n",
       " 'fittedvalues',\n",
       " 'fvalue',\n",
       " 'get_influence',\n",
       " 'get_prediction',\n",
       " 'get_robustcov_results',\n",
       " 'info_criteria',\n",
       " 'initialize',\n",
       " 'k_constant',\n",
       " 'llf',\n",
       " 'load',\n",
       " 'model',\n",
       " 'mse_model',\n",
       " 'mse_resid',\n",
       " 'mse_total',\n",
       " 'nobs',\n",
       " 'normalized_cov_params',\n",
       " 'outlier_test',\n",
       " 'params',\n",
       " 'predict',\n",
       " 'pvalues',\n",
       " 'remove_data',\n",
       " 'resid',\n",
       " 'resid_pearson',\n",
       " 'rsquared',\n",
       " 'rsquared_adj',\n",
       " 'save',\n",
       " 'scale',\n",
       " 'ssr',\n",
       " 'summary',\n",
       " 'summary2',\n",
       " 't_test',\n",
       " 't_test_pairwise',\n",
       " 'tvalues',\n",
       " 'uncentered_tss',\n",
       " 'use_t',\n",
       " 'wald_test',\n",
       " 'wald_test_terms',\n",
       " 'wresid']"
      ]
     },
     "execution_count": 9,
     "metadata": {},
     "output_type": "execute_result"
    }
   ],
   "source": [
    "dir(model1)\n"
   ]
  },
  {
   "cell_type": "code",
   "execution_count": 10,
   "id": "32ad23ba-a475-4c20-b699-038cc76f5620",
   "metadata": {},
   "outputs": [
    {
     "name": "stdout",
     "output_type": "stream",
     "text": [
      "F-value of First Model: 3092.890776750316\n"
     ]
    }
   ],
   "source": [
    "print('F-value of First Model:', model1.fvalue)\n"
   ]
  },
  {
   "cell_type": "code",
   "execution_count": 12,
   "id": "188c8cfd-c262-4466-b26f-61b08b217431",
   "metadata": {},
   "outputs": [
    {
     "data": {
      "text/html": [
       "<table class=\"simpletable\">\n",
       "<caption>OLS Regression Results</caption>\n",
       "<tr>\n",
       "  <th>Dep. Variable:</th>        <td>eta_data</td>     <th>  R-squared:         </th> <td>   0.992</td>\n",
       "</tr>\n",
       "<tr>\n",
       "  <th>Model:</th>                   <td>OLS</td>       <th>  Adj. R-squared:    </th> <td>   0.992</td>\n",
       "</tr>\n",
       "<tr>\n",
       "  <th>Method:</th>             <td>Least Squares</td>  <th>  F-statistic:       </th> <td>   2348.</td>\n",
       "</tr>\n",
       "<tr>\n",
       "  <th>Date:</th>             <td>Mon, 05 Dec 2022</td> <th>  Prob (F-statistic):</th> <td>1.05e-39</td>\n",
       "</tr>\n",
       "<tr>\n",
       "  <th>Time:</th>                 <td>16:32:48</td>     <th>  Log-Likelihood:    </th> <td>  116.21</td>\n",
       "</tr>\n",
       "<tr>\n",
       "  <th>No. Observations:</th>      <td>    40</td>      <th>  AIC:               </th> <td>  -226.4</td>\n",
       "</tr>\n",
       "<tr>\n",
       "  <th>Df Residuals:</th>          <td>    37</td>      <th>  BIC:               </th> <td>  -221.4</td>\n",
       "</tr>\n",
       "<tr>\n",
       "  <th>Df Model:</th>              <td>     2</td>      <th>                     </th>     <td> </td>   \n",
       "</tr>\n",
       "<tr>\n",
       "  <th>Covariance Type:</th>      <td>nonrobust</td>    <th>                     </th>     <td> </td>   \n",
       "</tr>\n",
       "</table>\n",
       "<table class=\"simpletable\">\n",
       "<tr>\n",
       "    <td></td>       <th>coef</th>     <th>std err</th>      <th>t</th>      <th>P>|t|</th>  <th>[0.025</th>    <th>0.975]</th>  \n",
       "</tr>\n",
       "<tr>\n",
       "  <th>const</th> <td>    0.2589</td> <td>    0.002</td> <td>  131.954</td> <td> 0.000</td> <td>    0.255</td> <td>    0.263</td>\n",
       "</tr>\n",
       "<tr>\n",
       "  <th>x1</th>    <td>    0.2589</td> <td>    0.002</td> <td>  131.954</td> <td> 0.000</td> <td>    0.255</td> <td>    0.263</td>\n",
       "</tr>\n",
       "<tr>\n",
       "  <th>x2</th>    <td>   -1.9776</td> <td>    0.145</td> <td>  -13.670</td> <td> 0.000</td> <td>   -2.271</td> <td>   -1.684</td>\n",
       "</tr>\n",
       "<tr>\n",
       "  <th>x3</th>    <td>    0.2589</td> <td>    0.002</td> <td>  131.954</td> <td> 0.000</td> <td>    0.255</td> <td>    0.263</td>\n",
       "</tr>\n",
       "<tr>\n",
       "  <th>x4</th>    <td>   -1.9776</td> <td>    0.145</td> <td>  -13.670</td> <td> 0.000</td> <td>   -2.271</td> <td>   -1.684</td>\n",
       "</tr>\n",
       "<tr>\n",
       "  <th>x5</th>    <td>  -13.1003</td> <td>    2.898</td> <td>   -4.521</td> <td> 0.000</td> <td>  -18.972</td> <td>   -7.229</td>\n",
       "</tr>\n",
       "</table>\n",
       "<table class=\"simpletable\">\n",
       "<tr>\n",
       "  <th>Omnibus:</th>       <td> 4.877</td> <th>  Durbin-Watson:     </th> <td>   1.991</td>\n",
       "</tr>\n",
       "<tr>\n",
       "  <th>Prob(Omnibus):</th> <td> 0.087</td> <th>  Jarque-Bera (JB):  </th> <td>   2.185</td>\n",
       "</tr>\n",
       "<tr>\n",
       "  <th>Skew:</th>          <td> 0.247</td> <th>  Prob(JB):          </th> <td>   0.335</td>\n",
       "</tr>\n",
       "<tr>\n",
       "  <th>Kurtosis:</th>      <td> 1.967</td> <th>  Cond. No.          </th> <td>7.18e+22</td>\n",
       "</tr>\n",
       "</table><br/><br/>Notes:<br/>[1] Standard Errors assume that the covariance matrix of the errors is correctly specified.<br/>[2] The smallest eigenvalue is 2.33e-44. This might indicate that there are<br/>strong multicollinearity problems or that the design matrix is singular."
      ],
      "text/plain": [
       "<class 'statsmodels.iolib.summary.Summary'>\n",
       "\"\"\"\n",
       "                            OLS Regression Results                            \n",
       "==============================================================================\n",
       "Dep. Variable:               eta_data   R-squared:                       0.992\n",
       "Model:                            OLS   Adj. R-squared:                  0.992\n",
       "Method:                 Least Squares   F-statistic:                     2348.\n",
       "Date:                Mon, 05 Dec 2022   Prob (F-statistic):           1.05e-39\n",
       "Time:                        16:32:48   Log-Likelihood:                 116.21\n",
       "No. Observations:                  40   AIC:                            -226.4\n",
       "Df Residuals:                      37   BIC:                            -221.4\n",
       "Df Model:                           2                                         \n",
       "Covariance Type:            nonrobust                                         \n",
       "==============================================================================\n",
       "                 coef    std err          t      P>|t|      [0.025      0.975]\n",
       "------------------------------------------------------------------------------\n",
       "const          0.2589      0.002    131.954      0.000       0.255       0.263\n",
       "x1             0.2589      0.002    131.954      0.000       0.255       0.263\n",
       "x2            -1.9776      0.145    -13.670      0.000      -2.271      -1.684\n",
       "x3             0.2589      0.002    131.954      0.000       0.255       0.263\n",
       "x4            -1.9776      0.145    -13.670      0.000      -2.271      -1.684\n",
       "x5           -13.1003      2.898     -4.521      0.000     -18.972      -7.229\n",
       "==============================================================================\n",
       "Omnibus:                        4.877   Durbin-Watson:                   1.991\n",
       "Prob(Omnibus):                  0.087   Jarque-Bera (JB):                2.185\n",
       "Skew:                           0.247   Prob(JB):                        0.335\n",
       "Kurtosis:                       1.967   Cond. No.                     7.18e+22\n",
       "==============================================================================\n",
       "\n",
       "Notes:\n",
       "[1] Standard Errors assume that the covariance matrix of the errors is correctly specified.\n",
       "[2] The smallest eigenvalue is 2.33e-44. This might indicate that there are\n",
       "strong multicollinearity problems or that the design matrix is singular.\n",
       "\"\"\""
      ]
     },
     "execution_count": 12,
     "metadata": {},
     "output_type": "execute_result"
    }
   ],
   "source": [
    "polynomial_features = PolynomialFeatures(degree=2)\n",
    "pf = polynomial_features.fit_transform(intercept)\n",
    "model = smf.OLS(data['eta_data'], pf)\n",
    "model2 = model.fit()\n",
    "model2_predict = model2.predict()\n",
    "model2.summary()"
   ]
  },
  {
   "cell_type": "code",
   "execution_count": 13,
   "id": "9481a1fe-b57e-4b50-8a38-3404e46c6bac",
   "metadata": {},
   "outputs": [
    {
     "data": {
      "text/plain": [
       "['HC0_se',\n",
       " 'HC1_se',\n",
       " 'HC2_se',\n",
       " 'HC3_se',\n",
       " '_HCCM',\n",
       " '__class__',\n",
       " '__delattr__',\n",
       " '__dict__',\n",
       " '__dir__',\n",
       " '__doc__',\n",
       " '__eq__',\n",
       " '__format__',\n",
       " '__ge__',\n",
       " '__getattribute__',\n",
       " '__gt__',\n",
       " '__hash__',\n",
       " '__init__',\n",
       " '__init_subclass__',\n",
       " '__le__',\n",
       " '__lt__',\n",
       " '__module__',\n",
       " '__ne__',\n",
       " '__new__',\n",
       " '__reduce__',\n",
       " '__reduce_ex__',\n",
       " '__repr__',\n",
       " '__setattr__',\n",
       " '__sizeof__',\n",
       " '__str__',\n",
       " '__subclasshook__',\n",
       " '__weakref__',\n",
       " '_abat_diagonal',\n",
       " '_cache',\n",
       " '_data_attr',\n",
       " '_data_in_cache',\n",
       " '_get_robustcov_results',\n",
       " '_is_nested',\n",
       " '_use_t',\n",
       " '_wexog_singular_values',\n",
       " 'aic',\n",
       " 'bic',\n",
       " 'bse',\n",
       " 'centered_tss',\n",
       " 'compare_f_test',\n",
       " 'compare_lm_test',\n",
       " 'compare_lr_test',\n",
       " 'condition_number',\n",
       " 'conf_int',\n",
       " 'conf_int_el',\n",
       " 'cov_HC0',\n",
       " 'cov_HC1',\n",
       " 'cov_HC2',\n",
       " 'cov_HC3',\n",
       " 'cov_kwds',\n",
       " 'cov_params',\n",
       " 'cov_type',\n",
       " 'df_model',\n",
       " 'df_resid',\n",
       " 'diagn',\n",
       " 'eigenvals',\n",
       " 'el_test',\n",
       " 'ess',\n",
       " 'f_pvalue',\n",
       " 'f_test',\n",
       " 'fittedvalues',\n",
       " 'fvalue',\n",
       " 'get_influence',\n",
       " 'get_prediction',\n",
       " 'get_robustcov_results',\n",
       " 'info_criteria',\n",
       " 'initialize',\n",
       " 'k_constant',\n",
       " 'llf',\n",
       " 'load',\n",
       " 'model',\n",
       " 'mse_model',\n",
       " 'mse_resid',\n",
       " 'mse_total',\n",
       " 'nobs',\n",
       " 'normalized_cov_params',\n",
       " 'outlier_test',\n",
       " 'params',\n",
       " 'predict',\n",
       " 'pvalues',\n",
       " 'remove_data',\n",
       " 'resid',\n",
       " 'resid_pearson',\n",
       " 'rsquared',\n",
       " 'rsquared_adj',\n",
       " 'save',\n",
       " 'scale',\n",
       " 'ssr',\n",
       " 'summary',\n",
       " 'summary2',\n",
       " 't_test',\n",
       " 't_test_pairwise',\n",
       " 'tvalues',\n",
       " 'uncentered_tss',\n",
       " 'use_t',\n",
       " 'wald_test',\n",
       " 'wald_test_terms',\n",
       " 'wresid']"
      ]
     },
     "execution_count": 13,
     "metadata": {},
     "output_type": "execute_result"
    }
   ],
   "source": [
    "dir(model2)"
   ]
  },
  {
   "cell_type": "code",
   "execution_count": 14,
   "id": "1ac48f46-2c63-42af-83a8-38750895f406",
   "metadata": {},
   "outputs": [
    {
     "name": "stdout",
     "output_type": "stream",
     "text": [
      "F-value of Second Model: 2347.6934588650215\n"
     ]
    }
   ],
   "source": [
    "print('F-value of Second Model:', model2.fvalue)\n"
   ]
  },
  {
   "cell_type": "code",
   "execution_count": 15,
   "id": "b9237553-c7b4-42aa-8f18-358be56c2c73",
   "metadata": {},
   "outputs": [
    {
     "name": "stdout",
     "output_type": "stream",
     "text": [
      "P-value of First Model: 5.127523598185324e-38\n",
      "Zero Loss Efficiency: 0.7962914081423429\n",
      "Linear Coefficient: -5.216802437558728\n"
     ]
    }
   ],
   "source": [
    "print('P-value of First Model:', model1.f_pvalue)\n",
    "print('Zero Loss Efficiency: '+str(model1.params[0]))\n",
    "print('Linear Coefficient: '+str(model1.params[1]))"
   ]
  },
  {
   "cell_type": "code",
   "execution_count": 16,
   "id": "446f44d2-f1d0-412e-8963-7617a8d1ef11",
   "metadata": {},
   "outputs": [
    {
     "name": "stdout",
     "output_type": "stream",
     "text": [
      "P-value of Second Model: 1.0537737126905778e-39\n",
      "Zero Loss Efficiency: 0.2589328311342477\n",
      "Linear Coefficient: -1.9775664078823467\n",
      "Quadratic Coefficient: -13.100286061265592\n"
     ]
    }
   ],
   "source": [
    "print('P-value of Second Model:', model2.f_pvalue)\n",
    "print('Zero Loss Efficiency: '+str(model2.params[0]))\n",
    "print('Linear Coefficient: '+str(model2.params[2]))\n",
    "print('Quadratic Coefficient: '+str(model2.params[5]))"
   ]
  },
  {
   "cell_type": "code",
   "execution_count": 17,
   "id": "5c5949b3-5be7-4a58-a9d0-eba5b279c59b",
   "metadata": {},
   "outputs": [
    {
     "name": "stdout",
     "output_type": "stream",
     "text": [
      "The Corrected Coefficient of Determination: 0.9875434811429353\n",
      "The Root Mean Squared: 0.8865937509699445\n"
     ]
    }
   ],
   "source": [
    "n= 40\n",
    "y = data['eta_data']\n",
    "x = data['T_red']\n",
    "p1 = np.polyfit(x,y,1)\n",
    "yhat1 = p1[1] + p1[0]*x\n",
    "COD1 = model1.rsquared\n",
    "CCOD1 = 1-((1-COD1)*((n-1)/(n-2)))\n",
    "RMSE1 = model1.mse_model\n",
    "print('The Corrected Coefficient of Determination: '+str(CCOD1))\n",
    "print('The Root Mean Squared: '+str(RMSE1))\n"
   ]
  },
  {
   "cell_type": "code",
   "execution_count": 18,
   "id": "edf2da4b-9062-4211-a473-f940a9956da4",
   "metadata": {},
   "outputs": [
    {
     "name": "stdout",
     "output_type": "stream",
     "text": [
      "The Corrected Coefficient of Determination: 0.9917589156005218\n",
      "The Root Mean Squared: 0.44523484366145133\n"
     ]
    }
   ],
   "source": [
    "n=40\n",
    "y = data['eta_data']\n",
    "x = data['T_red']\n",
    "p2 = np.polyfit(x,y,2)\n",
    "yhat2 = p2[2] + p2[1]*x + p2[0]*x**2\n",
    "COD2 = model2.rsquared\n",
    "CCOD2 = 1-((1-COD2)*((n-1)/(n-3)))\n",
    "RMSE2 = model2.mse_model\n",
    "print('The Corrected Coefficient of Determination: '+str(CCOD2))\n",
    "print('The Root Mean Squared: '+str(RMSE2))\n",
    "\n"
   ]
  },
  {
   "cell_type": "code",
   "execution_count": null,
   "id": "4f789edd-b1ff-4a8e-b7cf-a94ee28c2fcd",
   "metadata": {},
   "outputs": [],
   "source": []
  }
 ],
 "metadata": {
  "kernelspec": {
   "display_name": "Python 3 (ipykernel)",
   "language": "python",
   "name": "python3"
  },
  "language_info": {
   "codemirror_mode": {
    "name": "ipython",
    "version": 3
   },
   "file_extension": ".py",
   "mimetype": "text/x-python",
   "name": "python",
   "nbconvert_exporter": "python",
   "pygments_lexer": "ipython3",
   "version": "3.9.12"
  }
 },
 "nbformat": 4,
 "nbformat_minor": 5
}
